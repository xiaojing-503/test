{
 "cells": [
  {
   "cell_type": "code",
   "execution_count": 2,
   "metadata": {},
   "outputs": [
    {
     "name": "stdout",
     "output_type": "stream",
     "text": [
      "school\n",
      "street\n",
      "city\n",
      "state\n",
      "zip\n",
      "cdscode\n",
      "cdscode\n",
      "city\n",
      "frpm count (ages 5-17)\n",
      "-------------------------------------------\n",
      "-------------------------------------------\n",
      "frpm\n",
      "schools\n"
     ]
    }
   ],
   "source": [
    "from sqlglot import parse_one, exp\n",
    "\n",
    "sql = \"SELECT DISTINCT s.\\\"school\\\", CONCAT(s.\\\"street\\\", ', ', s.\\\"city\\\", ', ', s.\\\"state\\\", ' ', s.\\\"zip\\\") AS \\\"full_communication_address\\\" FROM frpm f INNER JOIN schools s ON f.\\\"cdscode\\\" = s.\\\"cdscode\\\" WHERE s.\\\"city\\\" = 'Monterey' AND f.\\\"frpm count (ages 5-17)\\\" > 800\"\n",
    "\n",
    "# print all column references (a and b)\n",
    "for column in parse_one(sql).find_all(exp.Column):\n",
    "    print(column.alias_or_name)\n",
    "print(\"-------------------------------------------\")\n",
    "# find all projections in select statements (a and c)\n",
    "for select in parse_one(sql).find_all(exp.Literal):\n",
    "    for projection in select.expressions:\n",
    "        print(projection.this)\n",
    "print(\"-------------------------------------------\")\n",
    "# find all tables (x, y, z)\n",
    "for table in parse_one(sql).find_all(exp.Table):\n",
    "    print(table.name)"
   ]
  }
 ],
 "metadata": {
  "kernelspec": {
   "display_name": "env_llama_factory",
   "language": "python",
   "name": "python3"
  },
  "language_info": {
   "codemirror_mode": {
    "name": "ipython",
    "version": 3
   },
   "file_extension": ".py",
   "mimetype": "text/x-python",
   "name": "python",
   "nbconvert_exporter": "python",
   "pygments_lexer": "ipython3",
   "version": "3.10.14"
  }
 },
 "nbformat": 4,
 "nbformat_minor": 2
}
